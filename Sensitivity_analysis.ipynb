{
 "cells": [
  {
   "cell_type": "code",
   "execution_count": 1,
   "metadata": {},
   "outputs": [
    {
     "name": "stdout",
     "output_type": "stream",
     "text": [
      "4.450782702947559\n",
      "-------\n",
      "0.42999264936692144\n",
      "-------\n",
      "Phloem_output_tx1\t-0.3097224281318271\n",
      "0.0022970297 4_AMINO_BUTYRATE_c1 + 0.0004186704 ARG_c1 + 0.0015049505 ASN_c1 + 0.0004186704 CYS_c1 + 0.0792079208 FRU_c1 + 0.0693069307 GLC_c1 + 0.0240792079 GLN_c1 + 0.0124356436 GLT_c1 + 0.0007128713 GLY_c1 + 0.0004186704 HIS_c1 + 0.0017425743 ILE_c1 + 0.0020594059 LEU_c1 + 0.0022178218 LYS_c1 + 0.0038811881 L_ALPHA_ALANINE_c1 + 0.006019802 L_ASPARTATE_c1 + 0.0004186704 MET_c1 + 0.0057029703 PHE_c1 + 0.9603960396 PROTON_e1 + 0.0004186704 PRO_c1 + 0.003960396 SER_c1 + 0.0068910891 THR_c1 + 0.0004186704 TRP_c1 + 0.0004186704 TYR_c1 + 0.0027722772 VAL_c1 + 0.7326732673 sSUCROSE_b1 --> 0.9603960396 PROTON_c1 + Phloem_e1\n",
      "-------\n",
      "PROTON_ATPase_c1\t0.3105325415071109\n",
      "0.65 ATP_c1 + 0.45 PROTON_c1 + WATER_c1 + 0.35 aATP_c1 --> 0.5 ADP_c1 + PROTON_e1 + 0.7 Pi_c1 + 0.5 aADP_c1 + 0.3 aPi_c1\n",
      "-------\n",
      "5.8315578352997575\n",
      "-------\n",
      "0.35750555178863164\n"
     ]
    }
   ],
   "source": [
    "import cobra\n",
    "import libsbml\n",
    "from cobra.core import Metabolite, Reaction\n",
    "import pandas as pd\n",
    "from cobra import flux_analysis\n",
    "ModelF = cobra.io.read_sbml_model(\"CAM_12P_ME_Model.xml\")\n",
    "ModelF.solver=\"glpk\"\n",
    "cobra.flux_analysis.pfba(ModelF)"
   ]
  },
  {
   "cell_type": "code",
   "execution_count": 2,
   "metadata": {},
   "outputs": [],
   "source": [
    "ModelF3 = ModelF.copy()"
   ]
  },
  {
   "cell_type": "code",
   "execution_count": 3,
   "metadata": {},
   "outputs": [],
   "source": [
    "#Sensitivity analysis - Rubisco carboxylase/oxygenase ratio\n",
    "\n",
    "#Constrain different Rubisco carboxylase and oxygenase ratios (Vc/Vo) (examined ratios: 2, 3, 5, 10, 1000)\n",
    "# Vc/Vo = 2 (change 2 to the ratio that needs to be checked)\n",
    "for i in range(1,7):\n",
    "    new_constraint3 = ModelF3.problem.Constraint(\n",
    "        2*ModelF3.reactions.get_by_id(\"RXN_961_p\"+str(i)).flux_expression - ModelF3.reactions.get_by_id(\"RIBULOSE_BISPHOSPHATE_CARBOXYLASE_RXN_p\"+str(i)).flux_expression,\n",
    "        lb=0,\n",
    "        ub=0)\n",
    "    ModelF3.add_cons_vars(new_constraint3)\n",
    "\n",
    "    sol3 = flux_analysis.parsimonious.pfba(ModelF3)\n",
    "    \n",
    "#@Sanu: Add function to derive top 5 day/night proton consuming/producing?"
   ]
  },
  {
   "cell_type": "code",
   "execution_count": 1,
   "metadata": {},
   "outputs": [
    {
     "ename": "NameError",
     "evalue": "name 'ModelF' is not defined",
     "output_type": "error",
     "traceback": [
      "\u001b[1;31m---------------------------------------------------------------------------\u001b[0m",
      "\u001b[1;31mNameError\u001b[0m                                 Traceback (most recent call last)",
      "\u001b[1;32m<ipython-input-1-ebdb22a5aef8>\u001b[0m in \u001b[0;36m<module>\u001b[1;34m\u001b[0m\n\u001b[0;32m     10\u001b[0m \u001b[1;33m\u001b[0m\u001b[0m\n\u001b[0;32m     11\u001b[0m \u001b[1;32mfor\u001b[0m \u001b[0mi\u001b[0m \u001b[1;32min\u001b[0m \u001b[0mrange\u001b[0m\u001b[1;33m(\u001b[0m\u001b[1;36m1\u001b[0m\u001b[1;33m,\u001b[0m\u001b[1;36m13\u001b[0m\u001b[1;33m)\u001b[0m\u001b[1;33m:\u001b[0m\u001b[1;33m\u001b[0m\u001b[1;33m\u001b[0m\u001b[0m\n\u001b[1;32m---> 12\u001b[1;33m     \u001b[0mModelF\u001b[0m\u001b[1;33m.\u001b[0m\u001b[0mreactions\u001b[0m\u001b[1;33m.\u001b[0m\u001b[0mget_by_id\u001b[0m\u001b[1;33m(\u001b[0m\u001b[1;34m\"ATPase_tx\"\u001b[0m\u001b[1;33m+\u001b[0m\u001b[0mstr\u001b[0m\u001b[1;33m(\u001b[0m\u001b[0mi\u001b[0m\u001b[1;33m)\u001b[0m\u001b[1;33m)\u001b[0m\u001b[1;33m.\u001b[0m\u001b[0mlower_bound\u001b[0m \u001b[1;33m=\u001b[0m \u001b[0mATPase\u001b[0m\u001b[1;33m\u001b[0m\u001b[1;33m\u001b[0m\u001b[0m\n\u001b[0m\u001b[0;32m     13\u001b[0m     \u001b[0mModelF\u001b[0m\u001b[1;33m.\u001b[0m\u001b[0mreactions\u001b[0m\u001b[1;33m.\u001b[0m\u001b[0mget_by_id\u001b[0m\u001b[1;33m(\u001b[0m\u001b[1;34m\"ATPase_tx\"\u001b[0m\u001b[1;33m+\u001b[0m\u001b[0mstr\u001b[0m\u001b[1;33m(\u001b[0m\u001b[0mi\u001b[0m\u001b[1;33m)\u001b[0m\u001b[1;33m)\u001b[0m\u001b[1;33m.\u001b[0m\u001b[0mupper_bound\u001b[0m \u001b[1;33m=\u001b[0m \u001b[0mATPase\u001b[0m\u001b[1;33m\u001b[0m\u001b[1;33m\u001b[0m\u001b[0m\n\u001b[0;32m     14\u001b[0m \u001b[1;33m\u001b[0m\u001b[0m\n",
      "\u001b[1;31mNameError\u001b[0m: name 'ModelF' is not defined"
     ]
    }
   ],
   "source": [
    "#Sensitivity analysis - Maintencance cost\n",
    "\n",
    "#adding maintenance cost --> @Sanu: needed here? As maintenance cost was added in a previous model already\n",
    "PPFD = 100                            #light intensity of the model\n",
    "ATPase = (0.0049*PPFD) + 2.7851      #non-growth assocaited maintenance (NGAM) cost based on light - see Topfer et al 2020 Supplemental information section 1.2.3\n",
    "\n",
    "#Uncomment to check flux distribution\n",
    "#ATPase = ((0.0049*PPFD) + 2.7851)*0.5 #Decrease maintenance cost by 50%\n",
    "#ATPase = ((0.0049*PPFD) + 2.7851)*1.5 #Increase maintenance cost by 50%\n",
    "\n",
    "for i in range(1,13):\n",
    "    ModelF.reactions.get_by_id(\"ATPase_tx\"+str(i)).lower_bound = ATPase\n",
    "    ModelF.reactions.get_by_id(\"ATPase_tx\"+str(i)).upper_bound = ATPase\n",
    "    \n",
    "    #Setting NADPH demand to 1/3 of ATP demand and distributing this demand to cytosol, plastid and mitochondria based on Cheung et al 2013 (doi: 10.1111/tpj.12252)\n",
    "    ModelF.reactions.get_by_id(\"NADPHoxc_tx\"+str(i)).lower_bound = ATPase/9\n",
    "    ModelF.reactions.get_by_id(\"NADPHoxc_tx\"+str(i)).upper_bound = ATPase/9\n",
    "    \n",
    "    ModelF.reactions.get_by_id(\"NADPHoxp_tx\"+str(i)).lower_bound = ATPase/9\n",
    "    ModelF.reactions.get_by_id(\"NADPHoxp_tx\"+str(i)).upper_bound = ATPase/9\n",
    "    \n",
    "    ModelF.reactions.get_by_id(\"NADPHoxm_tx\"+str(i)).lower_bound = ATPase/9\n",
    "    ModelF.reactions.get_by_id(\"NADPHoxm_tx\"+str(i)).upper_bound = ATPase/9\n",
    "        \n",
    "cobra.flux_analysis.pfba(ModelF)\n",
    "\n",
    "sol3 = flux_analysis.parsimonious.pfba(ModelF3)\n",
    "\n",
    "#@Sanu: Add function to derive top 5 day/night proton consuming/producing?"
   ]
  },
  {
   "cell_type": "code",
   "execution_count": null,
   "metadata": {},
   "outputs": [],
   "source": [
    "#Sensitivity analysis - Decarboxylating enzyme\n",
    "#@Sanu: Remove constraint PEPCK=0 and ME carries 0 flux automatically? (the flux ratio constraints on NAD-ME/NADP-ME and cPPDK and pPPDK also need to be removed (see notebook ME-refinement))   \n",
    "  \n",
    "#@Sanu: how to re-activate PEPCK in the model and get rid of flux ratio constrains on ME and PPDK? \n",
    "# for i in range(1,13):    \n",
    "#     ModelF3.reactions.get_by_id(\"PEPCARBOXYKIN_RXN_c\"+str(i)).lower_bound = 0\n",
    "#     ModelF3.reactions.get_by_id(\"PEPCARBOXYKIN_RXN_c\"+str(i)).upper_bound = 0\n",
    "    \n",
    "sol3 = flux_analysis.parsimonious.pfba(ModelF3)\n",
    "\n",
    "#@Sanu: Add function to derive top 5 day/night proton consuming/producing?"
   ]
  },
  {
   "cell_type": "code",
   "execution_count": 23,
   "metadata": {},
   "outputs": [],
   "source": [
    "#@Sanu: replace the part below by a function --> widely used in our checks (see above)\n",
    "#summarizing top 5 proton producing/consuming reactions during daytime and nighttime relative to the cytosol --> we did this for all sensitivity checks\n",
    "#Daytime\n",
    "fout = open(\"DaytimeProducing.csv\",\"w\")\n",
    "for i in range(1,7):\n",
    "    met = ModelF3.metabolites.get_by_id(\"PROTON_c\"+str(i))\n",
    "    for rxn in met.reactions:\n",
    "        if round(rxn.flux,3)!=0 and rxn.flux*rxn.metabolites[met]>0:\n",
    "            fout.write(rxn.id+\",\"+str(((rxn.flux*rxn.metabolites[met])*60*60*2)/1000)+\"\\n\") #convert per sec to per 2h (60*60*2) --> mmol/m-2/s-1\n",
    "                        \n",
    "fout.close()\n",
    "\n",
    "df = pd.read_csv('DaytimeProducing.csv', header=None)\n",
    "df.rename(columns={0: 'RxnID', 1: 'DaytimeFlux'}, inplace=True)\n",
    "df['RxnID'] = df['RxnID'].map(lambda x: str(x)[:-1])\n",
    "df.to_csv('DaytimeProducing.csv', index=False)\n",
    "dff = df.groupby(['RxnID']).DaytimeFlux.sum().reset_index()\n",
    "dff.sort_values(\"DaytimeFlux\", axis=0, ascending=False, inplace=True, na_position='first') \n",
    "dff.to_csv('DaytimeProducing.csv', index=True)\n",
    "\n",
    "\n",
    "fout = open(\"DaytimeConsuming.csv\",\"w\")\n",
    "for i in range(1,7):\n",
    "    met = ModelF3.metabolites.get_by_id(\"PROTON_c\"+str(i))\n",
    "    for rxn in met.reactions:\n",
    "        if round(rxn.flux,3)!=0 and rxn.flux*rxn.metabolites[met]<0:\n",
    "            fout.write(rxn.id+\",\"+str(((rxn.flux*rxn.metabolites[met])*60*60*2)/1000)+\"\\n\") \n",
    "                        \n",
    "fout.close()\n",
    "\n",
    "df = pd.read_csv('DaytimeConsuming.csv', header=None)\n",
    "df.rename(columns={0: 'RxnID', 1: 'DaytimeFlux'}, inplace=True)\n",
    "df['RxnID'] = df['RxnID'].map(lambda x: str(x)[:-1])\n",
    "df.to_csv('DaytimeConsuming.csv', index=False)\n",
    "dff = df.groupby(['RxnID']).DaytimeFlux.sum().reset_index()\n",
    "dff.sort_values(\"DaytimeFlux\", axis=0, ascending=True, inplace=True, na_position='first') \n",
    "dff.to_csv('DaytimeConsuming.csv', index=True)\n",
    "\n",
    "#Nighttime\n",
    "fout = open(\"NighttimeProducing.csv\",\"w\")\n",
    "for i in range(7,13):\n",
    "    met = ModelF3.metabolites.get_by_id(\"PROTON_c\"+str(i))\n",
    "    for rxn in met.reactions:\n",
    "        if round(rxn.flux,3)!=0 and rxn.flux*rxn.metabolites[met]>0:\n",
    "            fout.write(rxn.id+\",\"+str(((rxn.flux*rxn.metabolites[met])*60*60*2)/1000)+\"\\n\")\n",
    "                        \n",
    "fout.close()\n",
    "\n",
    "df = pd.read_csv('NighttimeProducing.csv', header=None)\n",
    "df.rename(columns={0: 'RxnID', 1: 'NighttimeFlux'}, inplace=True)\n",
    "df['RxnID'] = df['RxnID'].map(lambda x: str(x)[:-1])\n",
    "df['RxnID'] = df['RxnID'].map(lambda x: x.rstrip('1'))\n",
    "df.to_csv('NighttimeProducing.csv', index=False)\n",
    "dff = df.groupby(['RxnID']).NighttimeFlux.sum().reset_index()\n",
    "dff.sort_values(\"NighttimeFlux\", axis=0, ascending=False, inplace=True, na_position='first') \n",
    "dff.to_csv('NighttimeProducing.csv', index=True)\n",
    "\n",
    "fout = open(\"NighttimeConsuming.csv\",\"w\")\n",
    "for i in range(7,13):\n",
    "    met = ModelF3.metabolites.get_by_id(\"PROTON_c\"+str(i))\n",
    "    for rxn in met.reactions:\n",
    "        if round(rxn.flux,3)!=0 and rxn.flux*rxn.metabolites[met]<0:\n",
    "            fout.write(rxn.id+\",\"+str(((rxn.flux*rxn.metabolites[met])*60*60*2)/1000)+\"\\n\")\n",
    "                        \n",
    "fout.close()\n",
    "\n",
    "df = pd.read_csv('NighttimeConsuming.csv', header=None)\n",
    "df.rename(columns={0: 'RxnID', 1: 'NighttimeFlux'}, inplace=True)\n",
    "df['RxnID'] = df['RxnID'].map(lambda x: str(x)[:-1])\n",
    "df['RxnID'] = df['RxnID'].map(lambda x: x.rstrip('1'))\n",
    "df.to_csv('NighttimeConsuming.csv', index=False)\n",
    "dff = df.groupby(['RxnID']).NighttimeFlux.sum().reset_index()\n",
    "dff.sort_values(\"NighttimeFlux\", axis=0, ascending=True, inplace=True, na_position='first') \n",
    "dff.to_csv('NighttimeConsuming.csv', index=True)"
   ]
  },
  {
   "cell_type": "code",
   "execution_count": null,
   "metadata": {},
   "outputs": [],
   "source": [
    "#Sensitivity analysis - Flux variability analysis\n",
    "#@Sanu: add FVA part here (see previous notebook on refinement and simulations)? On modelF3 (main ME model)"
   ]
  }
 ],
 "metadata": {
  "kernelspec": {
   "display_name": "Python 3",
   "language": "python",
   "name": "python3"
  },
  "language_info": {
   "codemirror_mode": {
    "name": "ipython",
    "version": 3
   },
   "file_extension": ".py",
   "mimetype": "text/x-python",
   "name": "python",
   "nbconvert_exporter": "python",
   "pygments_lexer": "ipython3",
   "version": "3.8.3"
  }
 },
 "nbformat": 4,
 "nbformat_minor": 4
}
