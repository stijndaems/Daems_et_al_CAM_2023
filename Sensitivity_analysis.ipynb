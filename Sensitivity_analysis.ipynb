{
 "cells": [
  {
   "cell_type": "code",
   "execution_count": 1,
   "metadata": {},
   "outputs": [
    {
     "data": {
      "text/html": [
       "<strong><em>Optimal</em> solution with objective value 4152.407</strong><br><div>\n",
       "<style scoped>\n",
       "    .dataframe tbody tr th:only-of-type {\n",
       "        vertical-align: middle;\n",
       "    }\n",
       "\n",
       "    .dataframe tbody tr th {\n",
       "        vertical-align: top;\n",
       "    }\n",
       "\n",
       "    .dataframe thead th {\n",
       "        text-align: right;\n",
       "    }\n",
       "</style>\n",
       "<table border=\"1\" class=\"dataframe\">\n",
       "  <thead>\n",
       "    <tr style=\"text-align: right;\">\n",
       "      <th></th>\n",
       "      <th>fluxes</th>\n",
       "      <th>reduced_costs</th>\n",
       "    </tr>\n",
       "  </thead>\n",
       "  <tbody>\n",
       "    <tr>\n",
       "      <th>PRO_PROTON_vc1</th>\n",
       "      <td>0.000000e+00</td>\n",
       "      <td>2.000000e+00</td>\n",
       "    </tr>\n",
       "    <tr>\n",
       "      <th>Ca_tx1</th>\n",
       "      <td>-3.825583e-19</td>\n",
       "      <td>-2.000000e+00</td>\n",
       "    </tr>\n",
       "    <tr>\n",
       "      <th>H2O_xc1</th>\n",
       "      <td>6.172778e-19</td>\n",
       "      <td>2.000000e+00</td>\n",
       "    </tr>\n",
       "    <tr>\n",
       "      <th>sCIT_biomass1</th>\n",
       "      <td>0.000000e+00</td>\n",
       "      <td>2.000000e+00</td>\n",
       "    </tr>\n",
       "    <tr>\n",
       "      <th>ACETYLGLUTKIN_RXN_p1</th>\n",
       "      <td>1.097584e-04</td>\n",
       "      <td>-2.000000e+00</td>\n",
       "    </tr>\n",
       "    <tr>\n",
       "      <th>...</th>\n",
       "      <td>...</td>\n",
       "      <td>...</td>\n",
       "    </tr>\n",
       "    <tr>\n",
       "      <th>PYR_mc8_channel</th>\n",
       "      <td>0.000000e+00</td>\n",
       "      <td>1.963141e-11</td>\n",
       "    </tr>\n",
       "    <tr>\n",
       "      <th>PYR_mc9_channel</th>\n",
       "      <td>0.000000e+00</td>\n",
       "      <td>1.963141e-11</td>\n",
       "    </tr>\n",
       "    <tr>\n",
       "      <th>PYR_mc10_channel</th>\n",
       "      <td>0.000000e+00</td>\n",
       "      <td>1.963141e-11</td>\n",
       "    </tr>\n",
       "    <tr>\n",
       "      <th>PYR_mc11_channel</th>\n",
       "      <td>0.000000e+00</td>\n",
       "      <td>4.873524e-11</td>\n",
       "    </tr>\n",
       "    <tr>\n",
       "      <th>PYR_mc12_channel</th>\n",
       "      <td>0.000000e+00</td>\n",
       "      <td>4.873524e-11</td>\n",
       "    </tr>\n",
       "  </tbody>\n",
       "</table>\n",
       "<p>11269 rows × 2 columns</p>\n",
       "</div>"
      ],
      "text/plain": [
       "<Solution 4152.407 at 0x18794694670>"
      ]
     },
     "execution_count": 1,
     "metadata": {},
     "output_type": "execute_result"
    }
   ],
   "source": [
    "import cobra\n",
    "import libsbml\n",
    "from cobra.core import Metabolite, Reaction\n",
    "import pandas as pd\n",
    "from cobra import flux_analysis\n",
    "from Functions import checkProtonFluxes\n",
    "ModelF = cobra.io.read_sbml_model(\"CAM_12P_ME_Model.xml\")\n",
    "ModelF.solver=\"glpk\"\n",
    "cobra.flux_analysis.pfba(ModelF)"
   ]
  },
  {
   "cell_type": "code",
   "execution_count": 2,
   "metadata": {},
   "outputs": [],
   "source": [
    "ModelF3 = ModelF.copy()"
   ]
  },
  {
   "cell_type": "code",
   "execution_count": 3,
   "metadata": {},
   "outputs": [],
   "source": [
    "#Sensitivity analysis - Decarboxylating enzyme\n",
    "\n",
    "for i in range(1,13):    \n",
    "    ModelF3.reactions.get_by_id(\"PEPCARBOXYKIN_RXN_c\"+str(i)).lower_bound = 0\n",
    "    ModelF3.reactions.get_by_id(\"PEPCARBOXYKIN_RXN_c\"+str(i)).upper_bound = 1000\n",
    "    \n",
    "sol3 = flux_analysis.parsimonious.pfba(ModelF3)\n",
    "checkProtonFluxes(ModelF3,tag=\"PEPCK\")\n",
    "\n"
   ]
  },
  {
   "cell_type": "code",
   "execution_count": 4,
   "metadata": {},
   "outputs": [],
   "source": [
    "# Reintroduce NADP-ME/NAD-ME and PPDK_c/PPDK_p constraints\n",
    "ModelF3 = ModelF.copy()\n",
    "#Constrain a flux ratio between NADP-ME and NAD-ME according to enzyme activity measurements in Kalanchoë and Dever et al. 2015\n",
    "for i in range(1,13):\n",
    "    new_constraint1 = ModelF3.problem.Constraint(\n",
    "        8*(ModelF3.reactions.get_by_id(\"MALIC_NADP_RXN_c\"+str(i)).flux_expression + ModelF3.reactions.get_by_id(\"MALIC_NADP_RXN_p\"+str(i)).flux_expression) - ModelF3.reactions.get_by_id(\"1_PERIOD_1_PERIOD_1_PERIOD_39_RXN_m\"+str(i)).flux_expression,\n",
    "        lb=0,\n",
    "        ub=0)\n",
    "    ModelF3.add_cons_vars(new_constraint1)\n",
    "    \n",
    "#Constrain a flux ratio between PPDK_c and PPDK_p according to Kondo et al. 2000 and Dever et al. 2015\n",
    "for i in range(1,13):\n",
    "    new_constraint2 = ModelF3.problem.Constraint(\n",
    "        2*ModelF3.reactions.get_by_id(\"PYRUVATEORTHOPHOSPHATE_DIKINASE_RXN_p\"+str(i)).flux_expression - ModelF3.reactions.get_by_id(\"PYRUVATEORTHOPHOSPHATE_DIKINASE_RXN_c\"+str(i)).flux_expression,\n",
    "        lb=0,\n",
    "        ub=0)\n",
    "    ModelF3.add_cons_vars(new_constraint2)"
   ]
  },
  {
   "cell_type": "code",
   "execution_count": 5,
   "metadata": {},
   "outputs": [],
   "source": [
    "#Sensitivity analysis - Rubisco carboxylase/oxygenase ratio\n",
    "\n",
    "#Constrain different Rubisco carboxylase and oxygenase ratios (Vc/Vo) (examined ratios: 2, 3, 5, 10, 1000)\n",
    "# Vc/Vo = 2 (change 2 to the ratio that needs to be checked)\n",
    "for i in range(1,7):\n",
    "    new_constraint3 = ModelF3.problem.Constraint(\n",
    "        2*ModelF3.reactions.get_by_id(\"RXN_961_p\"+str(i)).flux_expression - ModelF3.reactions.get_by_id(\"RIBULOSE_BISPHOSPHATE_CARBOXYLASE_RXN_p\"+str(i)).flux_expression,\n",
    "        lb=0,\n",
    "        ub=0)\n",
    "    ModelF3.add_cons_vars(new_constraint3)\n",
    "\n",
    "sol3 = flux_analysis.parsimonious.pfba(ModelF3)\n",
    "checkProtonFluxes(ModelF3,tag=\"VcVoRatio\")"
   ]
  },
  {
   "cell_type": "code",
   "execution_count": 6,
   "metadata": {},
   "outputs": [],
   "source": [
    "#Sensitivity analysis - Maintencance cost\n",
    "\n",
    "PPFD = 100                            #light intensity of the model\n",
    "ATPase = (0.0049*PPFD) + 2.7851      #non-growth assocaited maintenance (NGAM) cost based on light - see Topfer et al 2020 Supplemental information section 1.2.3\n",
    "\n",
    "#Uncomment to check flux distribution\n",
    "#ATPase = ((0.0049*PPFD) + 2.7851)*0.5 #Decrease maintenance cost by 50%\n",
    "#ATPase = ((0.0049*PPFD) + 2.7851)*1.5 #Increase maintenance cost by 50%\n",
    "\n",
    "for i in range(1,13):\n",
    "    ModelF.reactions.get_by_id(\"ATPase_tx\"+str(i)).lower_bound = ATPase\n",
    "    ModelF.reactions.get_by_id(\"ATPase_tx\"+str(i)).upper_bound = ATPase\n",
    "    \n",
    "    #Setting NADPH demand to 1/3 of ATP demand and distributing this demand to cytosol, plastid and mitochondria based on Cheung et al 2013 (doi: 10.1111/tpj.12252)\n",
    "    ModelF.reactions.get_by_id(\"NADPHoxc_tx\"+str(i)).lower_bound = ATPase/9\n",
    "    ModelF.reactions.get_by_id(\"NADPHoxc_tx\"+str(i)).upper_bound = ATPase/9\n",
    "    \n",
    "    ModelF.reactions.get_by_id(\"NADPHoxp_tx\"+str(i)).lower_bound = ATPase/9\n",
    "    ModelF.reactions.get_by_id(\"NADPHoxp_tx\"+str(i)).upper_bound = ATPase/9\n",
    "    \n",
    "    ModelF.reactions.get_by_id(\"NADPHoxm_tx\"+str(i)).lower_bound = ATPase/9\n",
    "    ModelF.reactions.get_by_id(\"NADPHoxm_tx\"+str(i)).upper_bound = ATPase/9\n",
    "        \n",
    "cobra.flux_analysis.pfba(ModelF)\n",
    "\n",
    "sol3 = flux_analysis.parsimonious.pfba(ModelF3)\n",
    "checkProtonFluxes(ModelF3,tag=\"NGAM\")"
   ]
  },
  {
   "cell_type": "code",
   "execution_count": 7,
   "metadata": {},
   "outputs": [],
   "source": [
    "from Functions import customFVA\n",
    "fva_sol=customFVA(ModelF3,rxnlist = [\"MAL_PROTON_rev_vc1\",\"MAL_PROTON_rev_vc2\", \"MAL_PROTON_rev_vc3\", \"MAL_PROTON_rev_vc4\", \"MAL_PROTON_rev_vc5\", \"MAL_PROTON_rev_vc6\", \"Pi_PROTON_mc1\",\"Pi_PROTON_mc2\",\"Pi_PROTON_mc3\",\"Pi_PROTON_mc4\",\"Pi_PROTON_mc5\", \"Pi_PROTON_mc6\", \"GAPOXNPHOSPHN_RXN_c1\", \"GAPOXNPHOSPHN_RXN_c2\",\"GAPOXNPHOSPHN_RXN_c3\",\"GAPOXNPHOSPHN_RXN_c4\",\"GAPOXNPHOSPHN_RXN_c5\",\"GAPOXNPHOSPHN_RXN_c6\"])\n",
    "\n",
    "fva_sol=pd.DataFrame(fva_sol)\n",
    "output_file=\"FVA.xlsx\"\n",
    "fva_sol.to_excel(output_file, index=False)"
   ]
  }
 ],
 "metadata": {
  "kernelspec": {
   "display_name": "Python 3 (ipykernel)",
   "language": "python",
   "name": "python3"
  },
  "language_info": {
   "codemirror_mode": {
    "name": "ipython",
    "version": 3
   },
   "file_extension": ".py",
   "mimetype": "text/x-python",
   "name": "python",
   "nbconvert_exporter": "python",
   "pygments_lexer": "ipython3",
   "version": "3.10.11"
  }
 },
 "nbformat": 4,
 "nbformat_minor": 4
}
