{
 "cells": [
  {
   "cell_type": "code",
   "execution_count": 1,
   "metadata": {},
   "outputs": [
    {
     "name": "stdout",
     "output_type": "stream",
     "text": [
      "4.450782702947559\n",
      "-------\n",
      "0.42999264936692144\n",
      "-------\n",
      "PROTON_ATPase_c1\t0.3105325415071109\n",
      "0.65 ATP_c1 + 0.45 PROTON_c1 + WATER_c1 + 0.35 aATP_c1 --> 0.5 ADP_c1 + PROTON_e1 + 0.7 Pi_c1 + 0.5 aADP_c1 + 0.3 aPi_c1\n",
      "-------\n",
      "Phloem_output_tx1\t-0.3097224281318271\n",
      "0.0022970297 4_AMINO_BUTYRATE_c1 + 0.0004186704 ARG_c1 + 0.0015049505 ASN_c1 + 0.0004186704 CYS_c1 + 0.0792079208 FRU_c1 + 0.0693069307 GLC_c1 + 0.0240792079 GLN_c1 + 0.0124356436 GLT_c1 + 0.0007128713 GLY_c1 + 0.0004186704 HIS_c1 + 0.0017425743 ILE_c1 + 0.0020594059 LEU_c1 + 0.0022178218 LYS_c1 + 0.0038811881 L_ALPHA_ALANINE_c1 + 0.006019802 L_ASPARTATE_c1 + 0.0004186704 MET_c1 + 0.0057029703 PHE_c1 + 0.9603960396 PROTON_e1 + 0.0004186704 PRO_c1 + 0.003960396 SER_c1 + 0.0068910891 THR_c1 + 0.0004186704 TRP_c1 + 0.0004186704 TYR_c1 + 0.0027722772 VAL_c1 + 0.7326732673 sSUCROSE_b1 --> 0.9603960396 PROTON_c1 + Phloem_e1\n",
      "-------\n",
      "5.8315578352997575\n",
      "-------\n",
      "0.35750555178863164\n"
     ]
    }
   ],
   "source": [
    "import cobra\n",
    "import libsbml\n",
    "from cobra.core import Metabolite, Reaction\n",
    "import pandas as pd\n",
    "df = pd.read_excel(\"ProcessedData_v2.xlsx\")\n",
    "from cobra import flux_analysis\n",
    "ModelF = cobra.io.read_sbml_model(\"CAM_12PModel_v2_Stijn.xml\")\n",
    "ModelF.solver=\"glpk\"\n",
    "cobra.flux_analysis.pfba(ModelF)\n",
    "\n",
    "PEPC_rxn = ModelF.reactions.get_by_id(\"PEPCARBOX_RXN_c7\")\n",
    "print(PEPC_rxn.flux)\n",
    "print(\"-------\")\n",
    "phloem_rxn = ModelF.reactions.get_by_id(\"Diel_phloem_export\")      #Phloem export represents output of the model (=sucrose + amino acids)    \n",
    "print(phloem_rxn.flux)\n",
    "print(\"-------\")\n",
    "\n",
    "#adding maintenance cost\n",
    "PPFD = 100                            #light intensity of the model\n",
    "ATPase = (0.0049*PPFD) + 2.7851       #non-growth assocaited maintenance (NGAM) cost based on light - see Topfer et al 2020 Supplemental information section 1.2.3\n",
    "for i in range(1,13):\n",
    "    ModelF.reactions.get_by_id(\"ATPase_tx\"+str(i)).lower_bound = ATPase\n",
    "    ModelF.reactions.get_by_id(\"ATPase_tx\"+str(i)).upper_bound = ATPase\n",
    "    \n",
    "    #Setting NADPH demand to 1/3 of ATP demand and distributing this demand to cytosol, plastid and mitochondria based on Cheung et al 2013 (doi: 10.1111/tpj.12252)\n",
    "    ModelF.reactions.get_by_id(\"NADPHoxc_tx\"+str(i)).lower_bound = ATPase/9\n",
    "    ModelF.reactions.get_by_id(\"NADPHoxc_tx\"+str(i)).upper_bound = ATPase/9\n",
    "    \n",
    "    ModelF.reactions.get_by_id(\"NADPHoxp_tx\"+str(i)).lower_bound = ATPase/9\n",
    "    ModelF.reactions.get_by_id(\"NADPHoxp_tx\"+str(i)).upper_bound = ATPase/9\n",
    "    \n",
    "    ModelF.reactions.get_by_id(\"NADPHoxm_tx\"+str(i)).lower_bound = ATPase/9\n",
    "    ModelF.reactions.get_by_id(\"NADPHoxm_tx\"+str(i)).upper_bound = ATPase/9\n",
    "    \n",
    "met = ModelF.metabolites.PROTON_e1\n",
    "for rxn in met.reactions:\n",
    "    if round(rxn.flux,3)!=0:\n",
    "        print(rxn.id+\"\\t\"+str(rxn.flux*rxn.metabolites[met]))\n",
    "        print(rxn.reaction)\n",
    "        print(\"-------\")\n",
    "        \n",
    "cobra.flux_analysis.pfba(ModelF)\n",
    "\n",
    "PEPC_rxn = ModelF.reactions.get_by_id(\"PEPCARBOX_RXN_c7\")\n",
    "print(PEPC_rxn.flux)\n",
    "print(\"-------\")\n",
    "phloem_rxn = ModelF.reactions.get_by_id(\"Diel_phloem_export\")\n",
    "print(phloem_rxn.flux)\n",
    "#ModelF.metabolites.PROTON_c6.summary()\n",
    "#ModelF.metabolites.PROTON_m6.summary()\n",
    "#ModelF.metabolites.PROTON_p1.summary()"
   ]
  },
  {
   "cell_type": "code",
   "execution_count": 2,
   "metadata": {},
   "outputs": [],
   "source": [
    "ModelF3 = ModelF.copy()"
   ]
  },
  {
   "cell_type": "code",
   "execution_count": 3,
   "metadata": {},
   "outputs": [],
   "source": [
    "#Constraint stuff\n",
    "#Constrain ATP_ADP_Pi_pc to 0 (we know NTT, plastidic nucleotide transporter is only active in importing ATP to chloroplast at night or in non-photosynthetic tissues (Reinhold et al., 2007; Flugge et al., 2011; Voon and Lim, 2019))\n",
    "\n",
    "for i in range(1,7):    \n",
    "    ModelF3.reactions.get_by_id(\"ATP_ADP_Pi_pc\"+str(i)).lower_bound = 0\n",
    "    ModelF3.reactions.get_by_id(\"ATP_ADP_Pi_pc\"+str(i)).upper_bound = 0\n",
    "    \n",
    "#Constrain PEPCK to 0 and replace it by ME (because we are modelling Phalaenopsis)    \n",
    "    \n",
    "for i in range(1,13):    \n",
    "    ModelF3.reactions.get_by_id(\"PEPCARBOXYKIN_RXN_c\"+str(i)).lower_bound = 0\n",
    "    ModelF3.reactions.get_by_id(\"PEPCARBOXYKIN_RXN_c\"+str(i)).upper_bound = 0\n",
    "\n",
    "#Remove reaction H_pc (because this was included as a hypothetical reaction)\n",
    "\n",
    "for i in range(1,13):    \n",
    "    ModelF3.reactions.get_by_id(\"H_pc\"+str(i)).lower_bound = 0\n",
    "    ModelF3.reactions.get_by_id(\"H_pc\"+str(i)).upper_bound = 0\n",
    "    \n",
    "#Remove reaction H_mc (because this was included as a hypothetical reaction)\n",
    "\n",
    "# for i in range(1,13):    \n",
    "#     ModelF3.reactions.get_by_id(\"H_mc\"+str(i)).lower_bound = 0\n",
    "#     ModelF3.reactions.get_by_id(\"H_mc\"+str(i)).upper_bound = 0\n",
    "\n",
    "#Change direction of PYR-H symporter allowing only PYR import into mitonchondria\n",
    "\n",
    "for i in range(1,13):    \n",
    "    ModelF3.reactions.get_by_id(\"PYRUVATE_PROTON_mc\"+str(i)).lower_bound = -1000\n",
    "    ModelF3.reactions.get_by_id(\"PYRUVATE_PROTON_mc\"+str(i)).upper_bound = 0\n",
    "    \n",
    "#Constrain NADP-dependent malic enzyme (both cytosolic and plastidic) since NAD-ME (mitochondrial) is the major decarboxylating enzyme in Phalaenopsis/Kalanchoë\n",
    "\n",
    "# for i in range(1,13):\n",
    "#     ModelF3.reactions.get_by_id(\"MALIC_NADP_RXN_c\"+str(i)).lower_bound = 0\n",
    "#     ModelF3.reactions.get_by_id(\"MALIC_NADP_RXN_c\"+str(i)).upper_bound = 0\n",
    "\n",
    "# for i in range(1,13):\n",
    "#     ModelF3.reactions.get_by_id(\"MALIC_NADP_RXN_p\"+str(i)).lower_bound = 0\n",
    "#     ModelF3.reactions.get_by_id(\"MALIC_NADP_RXN_p\"+str(i)).upper_bound = 0\n",
    "    \n",
    "#Constrain plastidic PPDK \n",
    "\n",
    "# for i in range(1,13):\n",
    "#     ModelF3.reactions.get_by_id(\"PYRUVATEORTHOPHOSPHATE_DIKINASE_RXN_p\"+str(i)).lower_bound = 0\n",
    "#     ModelF3.reactions.get_by_id(\"PYRUVATEORTHOPHOSPHATE_DIKINASE_RXN_p\"+str(i)).upper_bound = 0\n",
    "\n",
    "#Constrain a flux ratio between NADP-ME and NAD-ME according to Dever et al. 2015 and own measurements in Kalanchoë\n",
    "for i in range(1,13):\n",
    "    new_constraint1 = ModelF3.problem.Constraint(\n",
    "        8*(ModelF3.reactions.get_by_id(\"MALIC_NADP_RXN_c\"+str(i)).flux_expression + ModelF3.reactions.get_by_id(\"MALIC_NADP_RXN_p\"+str(i)).flux_expression) - ModelF3.reactions.get_by_id(\"1_PERIOD_1_PERIOD_1_PERIOD_39_RXN_m\"+str(i)).flux_expression,\n",
    "        lb=0,\n",
    "        ub=0)\n",
    "    ModelF3.add_cons_vars(new_constraint1)\n",
    "    \n",
    "#Constrain a flux ratio between PPDK_c and PPDK_p according to Kondo et al. 2000 and Dever et al. 2015\n",
    "for i in range(1,13):\n",
    "    new_constraint2 = ModelF3.problem.Constraint(\n",
    "        2*ModelF3.reactions.get_by_id(\"PYRUVATEORTHOPHOSPHATE_DIKINASE_RXN_p\"+str(i)).flux_expression - ModelF3.reactions.get_by_id(\"PYRUVATEORTHOPHOSPHATE_DIKINASE_RXN_c\"+str(i)).flux_expression,\n",
    "        lb=0,\n",
    "        ub=0)\n",
    "    ModelF3.add_cons_vars(new_constraint2)\n",
    "\n",
    "#Checking different mitochondrial malate importers\n",
    "\n",
    "# for i in range(1,13):\n",
    "#     ModelF3.reactions.get_by_id(\"MAL_Pi_mc\"+str(i)).lower_bound = 0\n",
    "#     ModelF3.reactions.get_by_id(\"MAL_Pi_mc\"+str(i)).upper_bound = 0\n",
    "    \n",
    "# for i in range(1,13):\n",
    "#     ModelF3.reactions.get_by_id(\"OAA_MAL_mc\"+str(i)).lower_bound = 0\n",
    "#     ModelF3.reactions.get_by_id(\"OAA_MAL_mc\"+str(i)).upper_bound = 0\n",
    "    \n",
    "# for i in range(1,13):\n",
    "#     ModelF3.reactions.get_by_id(\"MAL_SUC_mc\"+str(i)).lower_bound = 0\n",
    "#     ModelF3.reactions.get_by_id(\"MAL_SUC_mc\"+str(i)).upper_bound = 0\n",
    "    \n",
    "# for i in range(1,13):\n",
    "#     ModelF3.reactions.get_by_id(\"FUMHYDR_RXN_m\"+str(i)).lower_bound = 0\n",
    "#     ModelF3.reactions.get_by_id(\"FUMHYDR_RXN_m\"+str(i)).upper_bound = 0\n",
    "    \n",
    "# for i in range(1,13):\n",
    "#     ModelF3.reactions.get_by_id(\"MAL_SO4_mc\"+str(i)).lower_bound = 0\n",
    "#     ModelF3.reactions.get_by_id(\"MAL_SO4_mc\"+str(i)).upper_bound = 0\n",
    "    \n",
    "# for i in range(1,13):\n",
    "#     ModelF3.reactions.get_by_id(\"MAL_CIT_mc\"+str(i)).lower_bound = 0\n",
    "#     ModelF3.reactions.get_by_id(\"MAL_CIT_mc\"+str(i)).upper_bound = 0\n",
    "    \n",
    "# for i in range(1,13):\n",
    "#     ModelF3.reactions.get_by_id(\"2KG_MAL_mc\"+str(i)).lower_bound = 0\n",
    "#     ModelF3.reactions.get_by_id(\"2KG_MAL_mc\"+str(i)).upper_bound = 0\n",
    "    \n",
    "# for i in range(1,13):\n",
    "#     ModelF3.reactions.get_by_id(\"MAL_ISOCITRATE_mc\"+str(i)).lower_bound = 0\n",
    "#     ModelF3.reactions.get_by_id(\"MAL_ISOCITRATE_mc\"+str(i)).upper_bound = 0\n",
    "    \n",
    "# for i in range(1,13):\n",
    "#     ModelF3.reactions.get_by_id(\"MAL_ACONITATE_mc\"+str(i)).lower_bound = 0\n",
    "#     ModelF3.reactions.get_by_id(\"MAL_ACONITATE_mc\"+str(i)).upper_bound = 0\n",
    "\n",
    "#Check importance of PiC transporter \n",
    "# for i in range(1,13):\n",
    "#     ModelF3.reactions.get_by_id(\"Pi_PROTON_mc\"+str(i)).lower_bound = 0\n",
    "#     ModelF3.reactions.get_by_id(\"Pi_PROTON_mc\"+str(i)).upper_bound = 0"
   ]
  },
  {
   "cell_type": "code",
   "execution_count": 4,
   "metadata": {},
   "outputs": [],
   "source": [
    "#PYR-H symport reaction\n",
    "# for i in range(1,13):\n",
    "#     rxn = Reaction(\"PYR_H_mc\"+str(i)+\"_symport\",name = \"PYR_H_mc\"+str(i)+\"_symport\")\n",
    "   \n",
    "#     rxn.add_metabolites({ModelF3.metabolites.get_by_id(\"PYRUVATE_m\"+str(i)):-1,\n",
    "#                          ModelF3.metabolites.get_by_id(\"PROTON_m\"+str(i)):-1,\n",
    "#                          ModelF3.metabolites.get_by_id(\"PYRUVATE_c\"+str(i)):1,\n",
    "#                          ModelF3.metabolites.get_by_id(\"PROTON_c\"+str(i)):1})\n",
    "   \n",
    "#     rxn.lower_bound = 0\n",
    "#     rxn.upper_bound = 1000\n",
    "#     ModelF3.add_reaction(rxn)"
   ]
  },
  {
   "cell_type": "code",
   "execution_count": 5,
   "metadata": {},
   "outputs": [],
   "source": [
    "# PYR-H antiport reaction\n",
    "# for i in range(1,13):\n",
    "#     rxn = Reaction(\"PYR_H_mc\"+str(i)+\"_antiport\",name = \"PYR_H_mc\"+str(i)+\"_antiport\")\n",
    "   \n",
    "#     rxn.add_metabolites({ModelF3.metabolites.get_by_id(\"PYRUVATE_m\"+str(i)):-1,\n",
    "#                          ModelF3.metabolites.get_by_id(\"PROTON_m\"+str(i)):1,\n",
    "#                          ModelF3.metabolites.get_by_id(\"PYRUVATE_c\"+str(i)):1,\n",
    "#                          ModelF3.metabolites.get_by_id(\"PROTON_c\"+str(i)):-1})\n",
    "   \n",
    "#     rxn.lower_bound = 0\n",
    "#     rxn.upper_bound = 1000\n",
    "#     ModelF3.add_reaction(rxn)"
   ]
  },
  {
   "cell_type": "code",
   "execution_count": 6,
   "metadata": {},
   "outputs": [],
   "source": [
    "#PYR channel reaction\n",
    "for i in range(1,13):\n",
    "    rxn = Reaction(\"PYR_mc\"+str(i)+\"_channel\",name = \"PYR_mc\"+str(i)+\"_channel\")\n",
    "   \n",
    "    rxn.add_metabolites({ModelF3.metabolites.get_by_id(\"PYRUVATE_m\"+str(i)):-1,\n",
    "                         ModelF3.metabolites.get_by_id(\"PYRUVATE_c\"+str(i)):1})\n",
    "   \n",
    "    rxn.lower_bound = 0\n",
    "    rxn.upper_bound = 1000\n",
    "    ModelF3.add_reaction(rxn)"
   ]
  },
  {
   "cell_type": "code",
   "execution_count": 7,
   "metadata": {},
   "outputs": [],
   "source": [
    "sol3 = flux_analysis.parsimonious.pfba(ModelF3)"
   ]
  },
  {
   "cell_type": "code",
   "execution_count": 8,
   "metadata": {},
   "outputs": [
    {
     "name": "stdout",
     "output_type": "stream",
     "text": [
      "H_tx1\t0.0\n",
      "H_tx2\t0.0\n",
      "H_tx3\t0.0\n",
      "H_tx4\t0.0\n",
      "H_tx5\t0.0\n",
      "H_tx6\t0.0\n",
      "H_tx7\t0.25931038110001026\n",
      "H_tx8\t0.0\n",
      "H_tx9\t0.0\n",
      "H_tx10\t0.0\n",
      "H_tx11\t0.0\n",
      "H_tx12\t0.0\n"
     ]
    }
   ],
   "source": [
    "for rxn in ModelF3.reactions.query(\"H_tx\"):\n",
    "    print(rxn.id+\"\\t\"+str(rxn.flux))"
   ]
  },
  {
   "cell_type": "code",
   "execution_count": 9,
   "metadata": {},
   "outputs": [
    {
     "name": "stdout",
     "output_type": "stream",
     "text": [
      "unlProtHYPO_c1\t0.0\n",
      "unlProtHYPO_c2\t0.0\n",
      "unlProtHYPO_c3\t0.0\n",
      "unlProtHYPO_c4\t0.0\n",
      "unlProtHYPO_c5\t0.0\n",
      "unlProtHYPO_c6\t0.0\n",
      "unlProtHYPO_c7\t0.0\n",
      "unlProtHYPO_c8\t0.0\n",
      "unlProtHYPO_c9\t0.0\n",
      "unlProtHYPO_c10\t0.0\n",
      "unlProtHYPO_c11\t0.0\n",
      "unlProtHYPO_c12\t0.0\n"
     ]
    }
   ],
   "source": [
    "for rxn in ModelF3.reactions.query(\"HYPO\"):\n",
    "    print(rxn.id+\"\\t\"+str(rxn.flux))"
   ]
  },
  {
   "cell_type": "code",
   "execution_count": 10,
   "metadata": {},
   "outputs": [
    {
     "name": "stdout",
     "output_type": "stream",
     "text": [
      "PROTON_v1_accumulation\t34.18392197793339\n",
      "PROTON_v2_accumulation\t20.78959947088833\n",
      "PROTON_v3_accumulation\t7.39779398821904\n",
      "PROTON_v4_accumulation\t2.1190133403968905\n",
      "PROTON_v5_accumulation\t0.512122548698865\n",
      "PROTON_v6_accumulation\t0.0\n",
      "PROTON_v7_accumulation\t9.09291328065927\n",
      "PROTON_v8_accumulation\t10.973644995663372\n",
      "PROTON_v9_accumulation\t18.589934572427076\n",
      "PROTON_v10_accumulation\t27.79698207690486\n",
      "PROTON_v11_accumulation\t37.00402958138266\n",
      "PROTON_v12_accumulation\t46.32600228018982\n"
     ]
    }
   ],
   "source": [
    "for rxn in ModelF3.reactions.query(\"_accumulation\"):\n",
    "    if \"PROTON_v\" in rxn.id:\n",
    "        print(rxn.id+\"\\t\"+str(rxn.flux))"
   ]
  },
  {
   "cell_type": "code",
   "execution_count": 11,
   "metadata": {},
   "outputs": [
    {
     "name": "stdout",
     "output_type": "stream",
     "text": [
      "0.34947624033419467\n"
     ]
    }
   ],
   "source": [
    "phloem_rxn = ModelF3.reactions.get_by_id(\"Diel_phloem_export\")\n",
    "print(phloem_rxn.flux)"
   ]
  },
  {
   "cell_type": "code",
   "execution_count": 12,
   "metadata": {},
   "outputs": [
    {
     "data": {
      "image/png": "[encoded data removed]",
      "text/plain": [
       "<Figure size 432x288 with 1 Axes>"
      ]
     },
     "metadata": {
      "needs_background": "light"
     },
     "output_type": "display_data"
    }
   ],
   "source": [
    "xlist = list()\n",
    "ylist1 = list()\n",
    "ylist2 = list()\n",
    "ylist3 = list()\n",
    "for i in range(1,13):\n",
    "    i1 = i\n",
    "    if i != 12:\n",
    "        i2 = i+1\n",
    "    else:\n",
    "        i2 = 1\n",
    "    xlist.append(i)\n",
    "    ylist1.append(sol3[\"PROTON_v\"+str(i)+\"_accumulation\"])\n",
    "    ylist2.append(sol3[\"MAL_v\"+str(i)+\"_accumulation\"]+sol3[\"aMAL_v\"+str(i)+\"_accumulation\"])\n",
    "    ylist3.append(ylist1[i-1]/ylist2[i-1])\n",
    "    \n",
    "\n",
    "import matplotlib.pyplot as plt\n",
    "\n",
    "plt.plot(xlist,ylist1,label=\"H+\")\n",
    "plt.plot(xlist,ylist2,label=\"malate\")\n",
    "plt.hlines(2.5,1,12,linestyles=\"dotted\")\n",
    "plt.fill_between(xlist[6:],65,facecolor='grey',alpha=0.3)\n",
    "plt.legend()\n",
    "plt.xlabel(\"Phase\")\n",
    "plt.ylabel(\"flux (\"+r'$ nmol.m^{-2}.s^{-1}$'+\")\")\n",
    "plt.show()"
   ]
  },
  {
   "cell_type": "code",
   "execution_count": 13,
   "metadata": {},
   "outputs": [],
   "source": [
    "i = 10\n",
    "met = ModelF3.metabolites.get_by_id(\"PROTON_p\"+str(i))"
   ]
  },
  {
   "cell_type": "code",
   "execution_count": 14,
   "metadata": {},
   "outputs": [
    {
     "data": {
      "text/plain": [
       "0.008041907996378503"
      ]
     },
     "execution_count": 14,
     "metadata": {},
     "output_type": "execute_result"
    }
   ],
   "source": [
    "#CBB\n",
    "cbb_H = 0\n",
    "rxn = ModelF3.reactions.get_by_id(\"RIBULOSE_BISPHOSPHATE_CARBOXYLASE_RXN_p\"+str(i))\n",
    "cbb_H = cbb_H+(rxn.flux*rxn.metabolites[met])\n",
    "# print(cbb_H)\n",
    "rxn = ModelF3.reactions.get_by_id(\"PHOSGLYPHOS_RXN_p\"+str(i))\n",
    "cbb_H = cbb_H+(rxn.flux*rxn.metabolites[met])\n",
    "# print(cbb_H)\n",
    "rxn = ModelF3.reactions.get_by_id(\"GAPOXNPHOSPHN_RXN_p\"+str(i))\n",
    "cbb_H = cbb_H+(rxn.flux*rxn.metabolites[met])\n",
    "# print(cbb_H)\n",
    "rxn = ModelF3.reactions.get_by_id(\"PHOSPHORIBULOKINASE_RXN_p\"+str(i))\n",
    "cbb_H = cbb_H+(rxn.flux*rxn.metabolites[met])\n",
    "cbb_H"
   ]
  },
  {
   "cell_type": "code",
   "execution_count": 15,
   "metadata": {},
   "outputs": [
    {
     "data": {
      "text/plain": [
       "0.0001207101697982511"
      ]
     },
     "execution_count": 15,
     "metadata": {},
     "output_type": "execute_result"
    }
   ],
   "source": [
    "#for starch\n",
    "starch_H = 0\n",
    "rxn = ModelF3.reactions.get_by_id(\"GLYCOGENSYN_RXN_p\"+str(i))\n",
    "starch_H = starch_H+(rxn.flux*rxn.metabolites[met])\n",
    "# print(starch_H)\n",
    "rxn = ModelF3.reactions.get_by_id(\"GLUC1PADENYLTRANS_RXN_p\"+str(i))\n",
    "starch_H = starch_H+(rxn.flux*rxn.metabolites[met])\n",
    "# print(starch_H)\n",
    "rxn = ModelF3.reactions.get_by_id(\"INORGPYROPHOSPHAT_RXN_p\"+str(i))\n",
    "starch_H = starch_H+((rxn.flux*rxn.metabolites[met])*(1-(ModelF3.reactions.get_by_id(\"PYRUVATEORTHOPHOSPHATE_DIKINASE_RXN_p\"+str(i)).flux/rxn.flux)))\n",
    "starch_H"
   ]
  },
  {
   "cell_type": "code",
   "execution_count": 16,
   "metadata": {},
   "outputs": [
    {
     "data": {
      "text/plain": [
       "-6.584191079904606e-05"
      ]
     },
     "execution_count": 16,
     "metadata": {},
     "output_type": "execute_result"
    }
   ],
   "source": [
    "#PK --> I looked only to PPDK (PYR --> PEP)\n",
    "pk_H = 0\n",
    "rxn = ModelF3.reactions.get_by_id(\"PYRUVATEORTHOPHOSPHATE_DIKINASE_RXN_p\"+str(i))\n",
    "pk_H = pk_H+(rxn.flux*rxn.metabolites[met])\n",
    "rxn = ModelF3.reactions.get_by_id(\"INORGPYROPHOSPHAT_RXN_p\"+str(i))\n",
    "pk_H = pk_H+((rxn.flux*rxn.metabolites[met])*ModelF3.reactions.get_by_id(\"PYRUVATEORTHOPHOSPHATE_DIKINASE_RXN_p\"+str(i)).flux/rxn.flux)\n",
    "rxn = ModelF3.reactions.get_by_id(\"ADENYL_KIN_RXN_p\"+str(i))\n",
    "pk_H = pk_H+(rxn.flux*rxn.metabolites[met])\n",
    "pk_H"
   ]
  },
  {
   "cell_type": "code",
   "execution_count": 17,
   "metadata": {},
   "outputs": [
    {
     "data": {
      "text/plain": [
       "0.0004325200994667601"
      ]
     },
     "execution_count": 17,
     "metadata": {},
     "output_type": "execute_result"
    }
   ],
   "source": [
    "#sucrose synthesis\n",
    "SS_H = 0\n",
    "met = ModelF3.metabolites.get_by_id(\"PROTON_c\"+str(i))\n",
    "rxn = ModelF3.reactions.get_by_id(\"UDPKIN_RXN_c\"+str(i))\n",
    "SS_H = SS_H+(rxn.flux*rxn.metabolites[met])\n",
    "rxn = ModelF3.reactions.get_by_id(\"SUCROSE_SYNTHASE_RXN_c\"+str(i))\n",
    "SS_H = SS_H+(rxn.flux*rxn.metabolites[met])\n",
    "rxn = ModelF3.reactions.get_by_id(\"GLUC1PURIDYLTRANS_RXN_c\"+str(i))\n",
    "SS_H = SS_H+(rxn.flux*rxn.metabolites[met])\n",
    "rxn = ModelF3.reactions.get_by_id(\"SUCROSE_PHOSPHATASE_RXN_c\"+str(i))\n",
    "SS_H = SS_H+(rxn.flux*rxn.metabolites[met])\n",
    "rxn = ModelF3.reactions.get_by_id(\"INORGPYROPHOSPHAT_RXN_c\"+str(i))\n",
    "SS_H = SS_H+(rxn.flux*rxn.metabolites[met])\n",
    "rxn = ModelF3.reactions.get_by_id(\"SUCROSE_PHOSPHATE_SYNTHASE_RXN_c\"+str(i))\n",
    "SS_H = SS_H+(rxn.flux*rxn.metabolites[met])\n",
    "SS_H"
   ]
  },
  {
   "cell_type": "code",
   "execution_count": 18,
   "metadata": {},
   "outputs": [
    {
     "data": {
      "text/plain": [
       "8.299676335025584"
      ]
     },
     "execution_count": 18,
     "metadata": {},
     "output_type": "execute_result"
    }
   ],
   "source": [
    "#sucrose synthesis\n",
    "GNG_H = 0\n",
    "rxn = ModelF3.reactions.get_by_id(\"PHOSGLYPHOS_RXN_c\"+str(i))\n",
    "GNG_H = GNG_H+(rxn.flux*rxn.metabolites[met])\n",
    "rxn = ModelF3.reactions.get_by_id(\"F16BDEPHOS_RXN_c\"+str(i))\n",
    "GNG_H = GNG_H+(rxn.flux*rxn.metabolites[met])\n",
    "rxn = ModelF3.reactions.get_by_id(\"GAPOXNPHOSPHN_RXN_c\"+str(i))\n",
    "GNG_H = GNG_H+(rxn.flux*rxn.metabolites[met])\n",
    "GNG_H"
   ]
  },
  {
   "cell_type": "code",
   "execution_count": 19,
   "metadata": {
    "scrolled": true
   },
   "outputs": [
    {
     "name": "stdout",
     "output_type": "stream",
     "text": [
      "MAL_PROTON_vc12\t-1.3647577545842866\n",
      "MAL_c12 + 0.3 PROTON_v12 --> 0.7 MAL_v12 + 0.3 aMAL_v12\n",
      "4.549192515280955\n",
      "-------\n",
      "PROTONATP_rev_vc12\t11.347061603945479\n",
      "0.65 ATP_c12 + 1.45 PROTON_c12 + WATER_c12 + 0.35 aATP_c12 --> 0.5 ADP_c12 + 2.0 PROTON_v12 + 0.7 Pi_c12 + 0.5 aADP_c12 + 0.3 aPi_c12\n",
      "5.673530801972739\n",
      "-------\n",
      "PROTON_v11_accumulation\t37.00402958138266\n",
      "PROTON_v11 --> PROTON_v12\n",
      "37.00402958138266\n",
      "-------\n",
      "PROTON_v12_accumulation\t-46.32600228018982\n",
      "PROTON_v12 --> PROTON_v1\n",
      "46.32600228018982\n",
      "-------\n",
      "CIT_PROTON_vc12\t-0.30847713119610937\n",
      "CIT_c12 + 0.5 PROTON_v12 --> 0.5 CIT_v12 + 0.5 aCIT_v12\n",
      "0.6169542623922187\n",
      "-------\n",
      "SUCROSE_PROTON_rev_vc12\t-0.35185401935791694\n",
      "PROTON_v12 + SUCROSE_v12 --> PROTON_c12 + SUCROSE_c12\n",
      "0.35185401935791694\n",
      "-------\n"
     ]
    }
   ],
   "source": [
    "#general worksheet for figures\n",
    "  \n",
    "met = ModelF3.metabolites.PROTON_v12\n",
    "\n",
    "for rxn in met.reactions:\n",
    "    if round(rxn.flux,3)!=0:\n",
    "        print(rxn.id+\"\\t\"+str(rxn.flux*rxn.metabolites[met]))\n",
    "        print(rxn.reaction)\n",
    "        print(rxn.flux)\n",
    "        print(\"-------\")\n",
    "\n",
    "# met = ModelF3.metabolites.OXALACETIC_ACID_c1\n",
    "# for rxn in met.reactions:\n",
    "#     if round(rxn.flux,3)!=0:\n",
    "#         print(rxn.id+\"\\t\"+str(rxn.flux*rxn.metabolites[met]))\n",
    "#         print(rxn.reaction)\n",
    "#         print(rxn.flux)\n",
    "#         print(\"-------\")\n",
    "\n",
    "# met = ModelF3.metabolites.PYRUVATE_m9\n",
    "# for rxn in met.reactions:\n",
    "#     if round(rxn.flux,3)!=0:\n",
    "#         print(rxn.id+\"\\t\"+str(rxn.flux*rxn.metabolites[met]))\n",
    "#         print(rxn.reaction)\n",
    "#         print(rxn.flux)\n",
    "#         print(\"-------\")\n",
    "        \n",
    "# met = ModelF3.metabolites.NADH_m1\n",
    "# for rxn in met.reactions:\n",
    "#     if round(rxn.flux,3)!=0:\n",
    "#         print(rxn.id+\"\\t\"+str(rxn.flux*rxn.metabolites[met]))\n",
    "#         print(rxn.reaction)\n",
    "#         print(rxn.flux)\n",
    "#         print(\"-------\")"
   ]
  },
  {
   "cell_type": "code",
   "execution_count": 20,
   "metadata": {},
   "outputs": [],
   "source": [
    "#check activity of TCA cycle \n",
    "met = ModelF3.metabolites.CIT_m1\n",
    "\n",
    "for rxn in met.reactions:\n",
    "    if round(rxn.flux,3)!=0:\n",
    "        print(rxn.id+\"\\t\"+str(rxn.flux*rxn.metabolites[met]))\n",
    "        print(rxn.reaction)\n",
    "        print(rxn.flux)\n",
    "        print(\"-------\")"
   ]
  },
  {
   "cell_type": "code",
   "execution_count": 92,
   "metadata": {},
   "outputs": [],
   "source": [
    "#summarizing top 5 proton producing/consuming reactions during daytime and nighttime relative to the cytosol\n",
    "#Daytime\n",
    "fout = open(\"DaytimeProducing.csv\",\"w\")\n",
    "for i in range(1,7):\n",
    "    met = ModelF3.metabolites.get_by_id(\"PROTON_c\"+str(i))\n",
    "    for rxn in met.reactions:\n",
    "        if round(rxn.flux,3)!=0 and rxn.flux*rxn.metabolites[met]>0:\n",
    "            fout.write(rxn.id+\",\"+str(rxn.flux*rxn.metabolites[met])+\"\\n\") \n",
    "                        \n",
    "fout.close()\n",
    "\n",
    "df = pd.read_csv('DaytimeProducing.csv', header=None)\n",
    "df.rename(columns={0: 'RxnID', 1: 'DaytimeFlux'}, inplace=True)\n",
    "df['RxnID'] = df['RxnID'].map(lambda x: str(x)[:-1])\n",
    "df.to_csv('DaytimeProducing.csv', index=False)\n",
    "dff = df.groupby(['RxnID']).DaytimeFlux.sum().reset_index()\n",
    "dff.sort_values(\"DaytimeFlux\", axis=0, ascending=False, inplace=True, na_position='first') \n",
    "dff.to_csv('DaytimeProducing.csv', index=True)\n",
    "\n",
    "\n",
    "fout = open(\"DaytimeConsuming.csv\",\"w\")\n",
    "for i in range(1,7):\n",
    "    met = ModelF3.metabolites.get_by_id(\"PROTON_c\"+str(i))\n",
    "    for rxn in met.reactions:\n",
    "        if round(rxn.flux,3)!=0 and rxn.flux*rxn.metabolites[met]<0:\n",
    "            fout.write(rxn.id+\",\"+str(rxn.flux*rxn.metabolites[met])+\"\\n\") \n",
    "                        \n",
    "fout.close()\n",
    "\n",
    "df = pd.read_csv('DaytimeConsuming.csv', header=None)\n",
    "df.rename(columns={0: 'RxnID', 1: 'DaytimeFlux'}, inplace=True)\n",
    "df['RxnID'] = df['RxnID'].map(lambda x: str(x)[:-1])\n",
    "df.to_csv('DaytimeConsuming.csv', index=False)\n",
    "dff = df.groupby(['RxnID']).DaytimeFlux.sum().reset_index()\n",
    "dff.sort_values(\"DaytimeFlux\", axis=0, ascending=True, inplace=True, na_position='first') \n",
    "dff.to_csv('DaytimeConsuming.csv', index=True)\n",
    "\n",
    "#Nighttime\n",
    "fout = open(\"NighttimeProducing.csv\",\"w\")\n",
    "for i in range(7,13):\n",
    "    met = ModelF3.metabolites.get_by_id(\"PROTON_c\"+str(i))\n",
    "    for rxn in met.reactions:\n",
    "        if round(rxn.flux,3)!=0 and rxn.flux*rxn.metabolites[met]>0:\n",
    "            fout.write(rxn.id+\",\"+str(rxn.flux*rxn.metabolites[met])+\"\\n\") \n",
    "                        \n",
    "fout.close()\n",
    "\n",
    "df = pd.read_csv('NighttimeProducing.csv', header=None)\n",
    "df.rename(columns={0: 'RxnID', 1: 'NighttimeFlux'}, inplace=True)\n",
    "df['RxnID'] = df['RxnID'].map(lambda x: str(x)[:-1])\n",
    "df['RxnID'] = df['RxnID'].map(lambda x: x.rstrip('1'))\n",
    "df.to_csv('NighttimeProducing.csv', index=False)\n",
    "dff = df.groupby(['RxnID']).NighttimeFlux.sum().reset_index()\n",
    "dff.sort_values(\"NighttimeFlux\", axis=0, ascending=False, inplace=True, na_position='first') \n",
    "dff.to_csv('NighttimeProducing.csv', index=True)\n",
    "\n",
    "fout = open(\"NighttimeConsuming.csv\",\"w\")\n",
    "for i in range(7,13):\n",
    "    met = ModelF3.metabolites.get_by_id(\"PROTON_c\"+str(i))\n",
    "    for rxn in met.reactions:\n",
    "        if round(rxn.flux,3)!=0 and rxn.flux*rxn.metabolites[met]<0:\n",
    "            fout.write(rxn.id+\",\"+str(rxn.flux*rxn.metabolites[met])+\"\\n\") \n",
    "                        \n",
    "fout.close()\n",
    "\n",
    "df = pd.read_csv('NighttimeConsuming.csv', header=None)\n",
    "df.rename(columns={0: 'RxnID', 1: 'NighttimeFlux'}, inplace=True)\n",
    "df['RxnID'] = df['RxnID'].map(lambda x: str(x)[:-1])\n",
    "df['RxnID'] = df['RxnID'].map(lambda x: x.rstrip('1'))\n",
    "df.to_csv('NighttimeConsuming.csv', index=False)\n",
    "dff = df.groupby(['RxnID']).NighttimeFlux.sum().reset_index()\n",
    "dff.sort_values(\"NighttimeFlux\", axis=0, ascending=True, inplace=True, na_position='first') \n",
    "dff.to_csv('NighttimeConsuming.csv', index=True)"
   ]
  },
  {
   "cell_type": "code",
   "execution_count": null,
   "metadata": {},
   "outputs": [],
   "source": [
    "#check flux through H_mc\n",
    "for i in range(1,13):\n",
    "    rxn = ModelF3.reactions.get_by_id(\"1_PERIOD_1_PERIOD_1_PERIOD_39_RXN_m\"+str(i))\n",
    "    print(rxn.reaction)\n",
    "    print(rxn.flux)\n",
    "    print(\"--------------------\")\n",
    "for i in range(1,13):\n",
    "    rxn = ModelF3.reactions.get_by_id(\"H_mc\"+str(i))\n",
    "    print(rxn.reaction)\n",
    "    print(rxn.flux)\n",
    "    print(\"--------------------\")\n",
    "# for i in range(1,13):\n",
    "#     rxn = ModelF3.reactions.get_by_id(\"PYR_H_mc\"+str(i)+\"_antiport\")\n",
    "#     print(rxn.reaction)\n",
    "#     print(rxn.flux)\n",
    "#     print(\"--------------------\")\n",
    "for i in range(1,13):\n",
    "    rxn = ModelF3.reactions.get_by_id(\"PYRUVATE_PROTON_mc\"+str(i))\n",
    "    print(rxn.reaction)\n",
    "    print(rxn.flux)"
   ]
  },
  {
   "cell_type": "code",
   "execution_count": null,
   "metadata": {},
   "outputs": [],
   "source": [
    "#check flux through PEPC\n",
    "PEPC_rxn = ModelF.reactions.get_by_id(\"PEPCARBOX_RXN_c1\")\n",
    "print(PEPC_rxn.flux)\n",
    "print(\"----------\")\n",
    "\n",
    "#Pyruvate consumed in mitochondria?\n",
    "met = ModelF3.metabolites.PYRUVATE_m9\n",
    "\n",
    "for rxn in met.reactions:\n",
    "    if round(rxn.flux,3)!=0:\n",
    "        print(rxn.id+\"\\t\"+str(rxn.flux*rxn.metabolites[met]))\n",
    "        print(rxn.reaction)\n",
    "        print(rxn.flux)\n",
    "        print(\"-------\")"
   ]
  },
  {
   "cell_type": "code",
   "execution_count": null,
   "metadata": {},
   "outputs": [],
   "source": [
    "#check fluxes through malic enzyme and PPDK\n",
    "rxn = ModelF3.reactions.get_by_id(\"1_PERIOD_1_PERIOD_1_PERIOD_39_RXN_m3\")\n",
    "print(rxn.reaction)\n",
    "print(rxn.flux)\n",
    "rxn = ModelF3.reactions.get_by_id(\"MALIC_NADP_RXN_c3\")\n",
    "print(rxn.reaction)\n",
    "print(rxn.flux)\n",
    "rxn = ModelF3.reactions.get_by_id(\"MALIC_NADP_RXN_p3\")\n",
    "print(rxn.reaction)\n",
    "print(rxn.flux)\n",
    "rxn = ModelF3.reactions.get_by_id(\"PYRUVATEORTHOPHOSPHATE_DIKINASE_RXN_p3\")\n",
    "print(rxn.reaction)\n",
    "print(rxn.flux)\n",
    "rxn = ModelF3.reactions.get_by_id(\"PYRUVATEORTHOPHOSPHATE_DIKINASE_RXN_c3\")\n",
    "print(rxn.reaction)\n",
    "print(rxn.flux)\n",
    "rxn = ModelF3.reactions.get_by_id(\"PYRUVATE_PROTON_mc3\")\n",
    "print(rxn.reaction)\n",
    "print(rxn.flux)"
   ]
  },
  {
   "cell_type": "code",
   "execution_count": null,
   "metadata": {},
   "outputs": [],
   "source": [
    "#cyclic and linear electron transport fluxes \n",
    "#cyclic\n",
    "rxn = ModelF3.reactions.get_by_id(\"Ferredoxin_Plastoquinone_Reductase_p7\")\n",
    "print(rxn.reaction)\n",
    "print(rxn.flux)\n",
    "\n",
    "#linear\n",
    "rxn = ModelF3.reactions.get_by_id(\"1_PERIOD_18_PERIOD_1_PERIOD_2_RXN_p7\")\n",
    "print(rxn.reaction)\n",
    "print(rxn.flux)"
   ]
  },
  {
   "cell_type": "code",
   "execution_count": null,
   "metadata": {},
   "outputs": [],
   "source": [
    "#mitochondrial and chloroplastic ATPsynthase\n",
    "rxn = ModelF3.reactions.get_by_id(\"Mitochondrial_ATP_Synthase_m5\")\n",
    "print(rxn.reaction)\n",
    "print(rxn.flux)\n",
    "print(\"-----------\")\n",
    "rxn = ModelF3.reactions.get_by_id(\"Plastidial_ATP_Synthase_p5\")\n",
    "print(rxn.reaction)\n",
    "print(rxn.flux)"
   ]
  },
  {
   "cell_type": "code",
   "execution_count": null,
   "metadata": {},
   "outputs": [],
   "source": [
    "#random check of reaction \n",
    "i = 6\n",
    "met = ModelF3.metabolites.get_by_id(\"PROTON_p\"+str(i))\n",
    "rxn = ModelF3.reactions.get_by_id(\"MALATE_DEHYDROGENASE_NADP_RXN_p6\")\n",
    "print(rxn.reaction)\n",
    "print(rxn.flux)\n",
    "print(rxn.flux*rxn.metabolites[met])\n",
    "print(\"----------------------\")\n",
    "\n",
    "rxn = ModelF3.reactions.get_by_id(\"OAA_MAL_pc12\")\n",
    "print(rxn.reaction)\n",
    "print(rxn.flux)"
   ]
  },
  {
   "cell_type": "code",
   "execution_count": null,
   "metadata": {},
   "outputs": [],
   "source": [
    "#check flux of starch synthesis\n",
    "starch = 0\n",
    "for i in range(1,7):\n",
    "    rxn = ModelF3.reactions.get_by_id(\"GLYCOGENSYN_RXN_p\"+str(i))\n",
    "    print(rxn.reaction)\n",
    "    print(rxn.flux)\n",
    "    starch = starch+rxn.flux\n",
    "print(\"---------------\")\n",
    "print(\"Total starch synthesized: \"+str(starch))"
   ]
  },
  {
   "cell_type": "code",
   "execution_count": null,
   "metadata": {},
   "outputs": [],
   "source": [
    "#check flux through rubisco oxygenase and carboxylase\n",
    "for i in range(1,13):\n",
    "    rxn = ModelF3.reactions.get_by_id(\"RXN_961_p\"+str(i))\n",
    "    print(rxn.reaction)\n",
    "    print(rxn.flux)\n",
    "print(\"-----------------------\")\n",
    "for i in range(1,13):\n",
    "    rxn = ModelF3.reactions.get_by_id(\"RIBULOSE_BISPHOSPHATE_CARBOXYLASE_RXN_p\"+str(i))\n",
    "    print(rxn.reaction)\n",
    "    print(rxn.flux)"
   ]
  },
  {
   "cell_type": "code",
   "execution_count": null,
   "metadata": {},
   "outputs": [],
   "source": [
    "#reactions involved in glycine decarboxylase --> happens halfway through photorespiratory pathway\n",
    "#if same flux for GCVMULTI and GLYOHMETRANS --> evidence for complete glycine decarboxylase \n",
    "#so glycine maybe used to generate serine \n",
    "rxn = ModelF3.reactions.get_by_id(\"GCVMULTI_RXN_m2\")\n",
    "print(rxn.reaction)\n",
    "print(rxn.flux)\n",
    "rxn = ModelF3.reactions.get_by_id(\"GLYOHMETRANS_RXN_m2\")\n",
    "print(rxn.reaction)\n",
    "print(rxn.flux)\n",
    "rxn = ModelF3.reactions.get_by_id(\"GLYOHMETRANS_RXN_c2\")\n",
    "print(rxn.reaction)\n",
    "print(rxn.flux)"
   ]
  },
  {
   "cell_type": "code",
   "execution_count": null,
   "metadata": {},
   "outputs": [],
   "source": [
    "#random checks of reactions \n",
    "ATPADP_rxn = ModelF3.reactions.get_by_id(\"ATP_ADP_Pi_pc1\")\n",
    "print(ATPADP_rxn.flux)\n",
    "\n",
    "i = 5\n",
    "met = ModelF3.metabolites.get_by_id(\"PROTON_p\"+str(i))\n",
    "rxn = ModelF3.reactions.get_by_id(\"GLY3KIN_RXN_p5\")\n",
    "print(rxn.reaction)\n",
    "print(rxn.flux)\n",
    "print(rxn.flux*rxn.metabolites[met])\n",
    "\n",
    "#check flux through malate valve\n",
    "met = ModelF3.metabolites.OXALACETIC_ACID_p1\n",
    "for rxn in met.reactions:\n",
    "    if round(rxn.flux,3)!=0:\n",
    "        print(rxn.id+\"\\t\"+str(rxn.flux*rxn.metabolites[met]))\n",
    "        print(rxn.reaction)\n",
    "        print(\"-------\")\n",
    "\n",
    "met = ModelF3.metabolites.OXALACETIC_ACID_p2\n",
    "for rxn in met.reactions:\n",
    "    if round(rxn.flux,3)!=0:\n",
    "        print(rxn.id+\"\\t\"+str(rxn.flux*rxn.metabolites[met]))\n",
    "        print(rxn.reaction)\n",
    "        print(\"-------\")\n",
    "        \n",
    "#checking which reactions produce PPi\n",
    "met = ModelF3.metabolites.PPI_p1\n",
    "for rxn in met.reactions:\n",
    "    if round(rxn.flux,3)!=0:\n",
    "        print(rxn.id+\"\\t\"+str(rxn.flux*rxn.metabolites[met]))\n",
    "        print(rxn.reaction)\n",
    "        print(\"-------\")\n",
    "        \n",
    "#checking flux of reactions involving photons (light) --> link to linear electron transport \n",
    "met = ModelF3.metabolites.Reduced_ferredoxins_p1\n",
    "for rxn in met.reactions:\n",
    "    if round(rxn.flux,3)!=0:\n",
    "        print(rxn.id+\"\\t\"+str(rxn.flux*rxn.metabolites[met]))\n",
    "        print(rxn.reaction)\n",
    "        print(\"-------\")\n",
    "        \n",
    "#is there any sucrose accumulation? \n",
    "met = ModelF3.metabolites.SUCROSE_v1\n",
    "for rxn in met.reactions:\n",
    "    if round(rxn.flux,3)!=0:\n",
    "        print(rxn.id+\"\\t\"+str(rxn.flux*rxn.metabolites[met]))\n",
    "        print(rxn.reaction)\n",
    "        print(\"-------\")"
   ]
  },
  {
   "cell_type": "code",
   "execution_count": null,
   "metadata": {},
   "outputs": [],
   "source": [
    "#serine used to produce hydroxypyruvate?\n",
    "met = ModelF3.metabolites.OH_PYR_x6\n",
    "\n",
    "for rxn in met.reactions:\n",
    "        print(rxn.id+\"\\t\"+str(rxn.flux*rxn.metabolites[met]))\n",
    "        print(rxn.reaction)\n",
    "        print(rxn.flux)\n",
    "        print(\"-------\")"
   ]
  },
  {
   "cell_type": "code",
   "execution_count": null,
   "metadata": {},
   "outputs": [],
   "source": [
    "constrained = dict()\n",
    "for rxn in ModelF3.reactions:\n",
    "    if (rxn.upper_bound != 0 and rxn.upper_bound != 1000) or (rxn.lower_bound != 0 and rxn.lower_bound != -1000):\n",
    "        constrained[rxn.id]={\"ub\":rxn.upper_bound,\"lb\":rxn.lower_bound}"
   ]
  },
  {
   "cell_type": "code",
   "execution_count": null,
   "metadata": {},
   "outputs": [],
   "source": [
    "for rxnID in sorted(constrained.keys()):\n",
    "    print(rxnID)\n",
    "    print(constrained[rxnID])"
   ]
  },
  {
   "cell_type": "code",
   "execution_count": null,
   "metadata": {},
   "outputs": [],
   "source": [
    "met = ModelF3.metabolites.aMAL_v1\n",
    "for rxn in met.reactions:\n",
    "    if round(rxn.flux,3)!=0:\n",
    "        print(rxn.id+\"\\t\"+str(rxn.flux*rxn.metabolites[met]))\n",
    "        print(rxn.reaction)\n",
    "        print(rxn.flux)\n",
    "        print(\"-------\")"
   ]
  },
  {
   "cell_type": "code",
   "execution_count": null,
   "metadata": {
    "scrolled": true
   },
   "outputs": [],
   "source": [
    "met = ModelF3.metabolites.MAL_v1\n",
    "for rxn in met.reactions:\n",
    "    if round(rxn.flux,3)!=0:\n",
    "        print(rxn.id+\"\\t\"+str(rxn.flux*rxn.metabolites[met]))\n",
    "        print(rxn.reaction)\n",
    "        print(rxn.flux)\n",
    "        print(\"-------\")"
   ]
  },
  {
   "cell_type": "code",
   "execution_count": null,
   "metadata": {},
   "outputs": [],
   "source": [
    "#write csv file with all reactions of all model phases included\n",
    "# fout = open(\"File4Sanu.csv\",\"w\")\n",
    "\n",
    "# for rxn in ModelF3.reactions:\n",
    "#     fout.write(rxn.id+\",\"+str(rxn.flux)+\"\\n\")\n",
    "    \n",
    "# fout.close()"
   ]
  },
  {
   "cell_type": "code",
   "execution_count": null,
   "metadata": {},
   "outputs": [],
   "source": [
    "#Flux variability analysis for daytime fluxes\n",
    "# reactionsDay = []\n",
    "# for i in range(1,7):\n",
    "#     rxn1 = ModelF3.reactions.get_by_id(\"MAL_PROTON_rev_vc\"+str(i))\n",
    "#     reactionsDay.append(rxn1)\n",
    "#     rxn2 = ModelF3.reactions.get_by_id(\"Pi_PROTON_mc\"+str(i))\n",
    "#     reactionsDay.append(rxn2)\n",
    "#     rxn3 = ModelF3.reactions.get_by_id(\"ATP_ADP_mc\"+str(i))\n",
    "#     reactionsDay.append(rxn3)\n",
    "#     rxn4 = ModelF3.reactions.get_by_id(\"Mitochondrial_ATP_Synthase_m\"+str(i))\n",
    "#     reactionsDay.append(rxn4)\n",
    "#     rxn5 = ModelF3.reactions.get_by_id(\"2KG_ISOCITRATE_mc\"+str(i))\n",
    "#     reactionsDay.append(rxn5)\n",
    "#     rxn6 = ModelF3.reactions.get_by_id(\"MALATE_DEH_RXN_c\"+str(i))\n",
    "#     reactionsDay.append(rxn6)\n",
    "#     rxn7 = ModelF3.reactions.get_by_id(\"GAPOXNPHOSPHN_RXN_c\"+str(i))\n",
    "#     reactionsDay.append(rxn7)\n",
    "#     rxn8 = ModelF3.reactions.get_by_id(\"PEP_Pi_pc\"+str(i))\n",
    "#     reactionsDay.append(rxn8)\n",
    "#     rxn9 = ModelF3.reactions.get_by_id(\"PHOSPHORIBULOKINASE_RXN_p\"+str(i))\n",
    "#     reactionsDay.append(rxn9)\n",
    "#     rxn10 = ModelF3.reactions.get_by_id(\"RIBULOSE_BISPHOSPHATE_CARBOXYLASE_RXN_p\"+str(i))\n",
    "#     reactionsDay.append(rxn10)\n",
    "#     rxn11 = ModelF3.reactions.get_by_id(\"GLYCOGENSYN_RXN_p\"+str(i))\n",
    "#     reactionsDay.append(rxn11)\n",
    "#     rxn12 = ModelF3.reactions.get_by_id(\"1_PERIOD_2_PERIOD_1_PERIOD_13_RXN_p\"+str(i))\n",
    "#     reactionsDay.append(rxn12)\n",
    "#     rxn13 = ModelF3.reactions.get_by_id(\"1_PERIOD_18_PERIOD_1_PERIOD_2_RXN_p\"+str(i))\n",
    "#     reactionsDay.append(rxn13)\n",
    "#     rxn14 = ModelF3.reactions.get_by_id(\"INORGPYROPHOSPHAT_RXN_p\"+str(i))\n",
    "#     reactionsDay.append(rxn14)\n",
    "#     rxn15 = ModelF3.reactions.get_by_id(\"Plastidial_ATP_Synthase_p\"+str(i))\n",
    "#     reactionsDay.append(rxn15)\n",
    "#     rxn16 = ModelF3.reactions.get_by_id(\"PYRUVATEORTHOPHOSPHATE_DIKINASE_RXN_p\"+str(i))\n",
    "#     reactionsDay.append(rxn16)\n",
    "#     rxn17 = ModelF3.reactions.get_by_id(\"MALATE_DEHYDROGENASE_NADP_RXN_p\"+str(i))\n",
    "#     reactionsDay.append(rxn17)\n",
    "#     rxn18 = ModelF3.reactions.get_by_id(\"ADENYL_KIN_RXN_p\"+str(i))\n",
    "#     reactionsDay.append(rxn18)\n",
    "     \n",
    "# from cobra.flux_analysis.variability import flux_variability_analysis\n",
    "# fva_sol = flux_variability_analysis(ModelF3,reaction_list=reactionsDay,pfba_factor=1)\n",
    "# print(fva_sol)"
   ]
  },
  {
   "cell_type": "code",
   "execution_count": null,
   "metadata": {},
   "outputs": [],
   "source": [
    "#Flux variability analysis for nighttime fluxes\n",
    "# reactionsNight = []\n",
    "# for i in range(7,13):\n",
    "#     rxn1 = ModelF3.reactions.get_by_id(\"PROTONATP_rev_vc\"+str(i))\n",
    "#     reactionsNight.append(rxn1)\n",
    "#     rxn2 = ModelF3.reactions.get_by_id(\"Mitochondrial_ATP_Synthase_m\"+str(i))\n",
    "#     reactionsNight.append(rxn2)\n",
    "#     rxn3 = ModelF3.reactions.get_by_id(\"Pi_PROTON_mc\"+str(i))\n",
    "#     reactionsNight.append(rxn3)\n",
    "#     rxn4 = ModelF3.reactions.get_by_id(\"GAPOXNPHOSPHN_RXN_c\"+str(i))\n",
    "#     reactionsNight.append(rxn4)\n",
    "#     rxn5 = ModelF3.reactions.get_by_id(\"RXN0_5224_c\"+str(i))\n",
    "#     reactionsNight.append(rxn5)\n",
    "#     rxn6 = ModelF3.reactions.get_by_id(\"G6P_Pi_pc\"+str(i))\n",
    "#     reactionsNight.append(rxn6)\n",
    "#     rxn7 = ModelF3.reactions.get_by_id(\"MALATE_DEH_RXN_c\"+str(i))\n",
    "#     reactionsNight.append(rxn7)\n",
    "#     rxn8 = ModelF3.reactions.get_by_id(\"PHOSPHORIBULOKINASE_RXN_p\"+str(i))\n",
    "#     reactionsNight.append(rxn8)\n",
    "#     rxn9 = ModelF3.reactions.get_by_id(\"RIBULOSE_BISPHOSPHATE_CARBOXYLASE_RXN_p\"+str(i))\n",
    "#     reactionsNight.append(rxn9)\n",
    "#     rxn10 = ModelF3.reactions.get_by_id(\"PEPDEPHOS_RXN_p\"+str(i))\n",
    "#     reactionsNight.append(rxn10)\n",
    "     \n",
    "# from cobra.flux_analysis.variability import flux_variability_analysis\n",
    "# fva_sol = flux_variability_analysis(ModelF3,reaction_list=reactionsNight,pfba_factor=1)\n",
    "# print(fva_sol)"
   ]
  },
  {
   "cell_type": "code",
   "execution_count": null,
   "metadata": {},
   "outputs": [],
   "source": [
    "# FVA on important CAM reactions day\n",
    "# reactionsCAM = []\n",
    "# for i in range(1,7):\n",
    "#     rxn1 = ModelF3.reactions.get_by_id(\"MALIC_NADP_RXN_c\"+str(i))\n",
    "#     reactionsCAM.append(rxn1)\n",
    "#     rxn2 = ModelF3.reactions.get_by_id(\"MALIC_NADP_RXN_p\"+str(i))\n",
    "#     reactionsCAM.append(rxn2)\n",
    "#     rxn3 = ModelF3.reactions.get_by_id(\"1_PERIOD_1_PERIOD_1_PERIOD_39_RXN_m\"+str(i))\n",
    "#     reactionsCAM.append(rxn3)\n",
    "#     rxn4 = ModelF3.reactions.get_by_id(\"PYRUVATEORTHOPHOSPHATE_DIKINASE_RXN_p\"+str(i))\n",
    "#     reactionsCAM.append(rxn4)\n",
    "#     rxn5 = ModelF3.reactions.get_by_id(\"PYRUVATEORTHOPHOSPHATE_DIKINASE_RXN_c\"+str(i))\n",
    "#     reactionsCAM.append(rxn5)\n",
    "     \n",
    "# from cobra.flux_analysis.variability import flux_variability_analysis\n",
    "# fva_sol = flux_variability_analysis(ModelF3,reaction_list=reactionsCAM,pfba_factor=1)\n",
    "# print(fva_sol)"
   ]
  },
  {
   "cell_type": "code",
   "execution_count": null,
   "metadata": {},
   "outputs": [],
   "source": [
    "#FVA on important CAM reactions night\n",
    "# reactionsCAM = []\n",
    "# for i in range(7,13):\n",
    "#     rxn1 = ModelF3.reactions.get_by_id(\"PEPCARBOX_RXN_c\"+str(i))\n",
    "#     reactionsCAM.append(rxn1)\n",
    "#     rxn2 = ModelF3.reactions.get_by_id(\"RIBULOSE_BISPHOSPHATE_CARBOXYLASE_RXN_p\"+str(i))\n",
    "#     reactionsCAM.append(rxn2)\n",
    "     \n",
    "# from cobra.flux_analysis.variability import flux_variability_analysis\n",
    "# fva_sol = flux_variability_analysis(ModelF3,reaction_list=reactionsCAM,pfba_factor=1)\n",
    "# print(fva_sol)"
   ]
  },
  {
   "cell_type": "code",
   "execution_count": null,
   "metadata": {},
   "outputs": [],
   "source": []
  }
 ],
 "metadata": {
  "kernelspec": {
   "display_name": "Python 3",
   "language": "python",
   "name": "python3"
  },
  "language_info": {
   "codemirror_mode": {
    "name": "ipython",
    "version": 3
   },
   "file_extension": ".py",
   "mimetype": "text/x-python",
   "name": "python",
   "nbconvert_exporter": "python",
   "pygments_lexer": "ipython3",
   "version": "3.8.3"
  }
 },
 "nbformat": 4,
 "nbformat_minor": 4
}
